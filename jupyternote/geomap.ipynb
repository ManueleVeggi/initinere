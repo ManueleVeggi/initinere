{
 "cells": [
  {
   "cell_type": "code",
   "execution_count": 1,
   "metadata": {},
   "outputs": [],
   "source": [
    "import pandas as pd\n",
    "import folium\n",
    "from folium.plugins import HeatMap\n",
    "\n",
    "\n",
    "def showmap(myDf, param):\n",
    "    if param == \"relative_scholarship\":\n",
    "        label = \"Scholarship\"\n",
    "    elif param == \"paidfee\":\n",
    "        label = \"Fee\"\n",
    "    elif param == \"perc_intern\":\n",
    "        label = \"International students (%)\"\n",
    "    lats_longs_weight = list(map(list, zip(myDf[\"lat\"], myDf[\"lon\"], round(myDf[param], 2))))\n",
    "    map_obj = folium.Map(location = [43, 11], zoom_start = 5)\n",
    "    heatmap_layer = HeatMap(lats_longs_weight).add_to(map_obj)\n",
    "    heatmap_layer.add_to(map_obj)\n",
    "\n",
    "    for idx, row in myDf.iterrows():\n",
    "        textmarker = str(row[\"uni\"] + \"\\n\\n\"+ \"{0}: \".format(label) + str(round(row[param], 2)))\n",
    "        folium.Marker(\n",
    "            [row[\"lat\"], row[\"lon\"]], \n",
    "            popup= textmarker,\n",
    "            icon=folium.Icon(color='red',icon='graduation-cap', prefix='fa') \n",
    "            ).add_to(map_obj)\n",
    "    \n",
    "    return map_obj\n",
    "\n",
    "geoDf = pd.read_csv(\"../data/output/geocordinatesuni.csv\")\n",
    "\n",
    "showmap(geoDf, \"perc_intern\").save(\"../assets/leafletgeomap/heat_map_perc.html\")\n",
    "showmap(geoDf, \"paidfee\").save(\"../assets/leafletgeomap/heat_map_paidfee.html\")\n",
    "showmap(geoDf, \"relative_scholarship\").save(\"../assets/leafletgeomap/heat_map_dsu.html\")"
   ]
  }
 ],
 "metadata": {
  "kernelspec": {
   "display_name": "Python 3.10.0 64-bit",
   "language": "python",
   "name": "python3"
  },
  "language_info": {
   "codemirror_mode": {
    "name": "ipython",
    "version": 3
   },
   "file_extension": ".py",
   "mimetype": "text/x-python",
   "name": "python",
   "nbconvert_exporter": "python",
   "pygments_lexer": "ipython3",
   "version": "3.10.0"
  },
  "orig_nbformat": 4,
  "vscode": {
   "interpreter": {
    "hash": "aee8b7b246df8f9039afb4144a1f6fd8d2ca17a180786b69acc140d282b71a49"
   }
  }
 },
 "nbformat": 4,
 "nbformat_minor": 2
}
