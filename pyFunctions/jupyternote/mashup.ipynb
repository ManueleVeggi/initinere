{
 "cells": [
  {
   "cell_type": "markdown",
   "metadata": {},
   "source": [
    "### Creation of the mashup datasets\n",
    "\n",
    "The collection of the data results in ten different datasets:\n",
    "- <b>Scholarships</b>: one per year, they contain all the information about \"diritto allo studio\" (see terminological caveat in the main documentation). Each funding is divided according to the tipology of the expenditure (scholarship, international mobility, canteens, dorms etc). They are saved in the repository as [<code>/data/source/dsu2016.csv</code>](../../data/source/dsu2016.csv), [<code>/data/source/dsu2017.csv</code>](../../data/source/dsu2017.csv), [<code>/data/source/dsu2018.csv</code>](../../data/source/dsu2018.csv) and [<code>/data/source/dsu2019.csv</code>](../../data/source/dsu2019.csv);\n",
    "- <b>Fees</b>: one per year, they contain information all the information about fees. They divide between average fee calculated among all the enrolled students (included free-waiver) and all the actually paying ones. Only the latter has been considered for the analysis. They are saved in the repository as [<code>/data/source/fees2016.csv</code>](../../data/source/fees2016.csv), [<code>/data/source/fees2017.csv</code>](../../data/source/fees2017.csv), [<code>/data/source/fees2018.csv</code>](../../data/source/fees2018.csv), [<code>/data/source/fees2019.csv</code>](../../data/source/fees2019.csv);\n",
    "- <b>Total students</b>: one single table ([<code>/data/source/student.csv</code>](../../data/source/student.csv)) containing all the information about the total amount of enrolled students, divided per gender and academic year;\n",
    "- <b>International students</b>: one single table ([<code>/data/source/intStudent.csv</code>](../../data/source/intStudent.csv)) containing all the information about the total amount of enrolled students, divided per academic year;\n",
    "\n",
    "It has been decided to maintain the subdivision on a chronological basis for the output datasets: the main goal of the analysis is hence to analyse possible correlations among the variables. Description of the trends across reference period (academic years 2015/16, 2016/17, 2017/18, 2018/19) is a secondary goal. The algorithm should compress the information in four output csv files. The following picture visualizes syntetically the process, which also comported the implementation of simple computations to convert absolute measurements (e.g. number of international students) into relative (their percentage over the entirety of student population)"
   ]
  },
  {
   "cell_type": "markdown",
   "metadata": {},
   "source": [
    "<img src=\"../../assets/img/mashupGraph.png\" alt=\"Mashup pipeline graph\">\n",
    "<br><br><small>The visualization was created through the software Draw.io</small>"
   ]
  },
  {
   "cell_type": "markdown",
   "metadata": {},
   "source": [
    "The algorithm can be executed at the file [<code>mashup.py</code>](../mashup.py). Its main function relies on two ancillary functions. The first one (<code>mergeCount</code>) allows to summarize into a single value all the information which are presented as divided in the main output. This function is called to compress expenditure information about scholarships and to remove the sex-based distinction in student enrollment."
   ]
  },
  {
   "cell_type": "code",
   "execution_count": 1,
   "metadata": {},
   "outputs": [],
   "source": [
    "import pandas as pd\n",
    "\n",
    "def mergeCount(sourceDf, destDf, col1, col2, col3, idcol, namecol, valcol):\n",
    "    i = 0\n",
    "    for idx, row in sourceDf.iterrows():\n",
    "        destDf.at[i, col1] = row[idcol]  \n",
    "        destDf.at[i, col2] = row[namecol]\n",
    "        temp = sourceDf.query('{0} == \"{1}\"'.format(idcol, row[idcol]))\n",
    "        sum = 0\n",
    "        for tempidx, temprow in temp.iterrows():\n",
    "            if \",\" in str(temprow[valcol]):\n",
    "                temprow[valcol] = str(temprow[valcol]).replace(\",\", \".\")\n",
    "            sum += int(float(temprow[valcol]))\n",
    "        destDf.at[i, col3] = sum\n",
    "        i += 1\n",
    "    destDf.drop_duplicates(ignore_index=True, inplace=True)\n",
    "    return destDf"
   ]
  },
  {
   "cell_type": "markdown",
   "metadata": {},
   "source": [
    "The merging process relied on the internal id assigned in the source datasets. The attribution of these codes, however, is not coherent across al the datasets. Only the first two (scholarships and fees) distinguished among the different seats of the same institutions with the adjunction of two digits at the end: for example, Politecnico di Torino has code 102, while its Information Engineering Departmente, seated in Verres, has code 10202. A comparative analysis of the id suggested that it could be implemented an algorithm which transform the ID into a 6-digits value and the cut it at the first four (starting from the left). This operation will be implemented directly in the body of the main function. The last two datasets (students and international students) are instead handled by an ancillary function, <code>refineStudId(myDf)</code>,which adds (if needed) digits to reach the desired length (i.e. 4 digits):"
   ]
  },
  {
   "cell_type": "code",
   "execution_count": 2,
   "metadata": {},
   "outputs": [],
   "source": [
    "def refineStudId(myDf):\n",
    "    idList = [] \n",
    "    for idx, row in myDf.iterrows():\n",
    "        while len(str(row[\"AteneoCOD\"])) < 4:\n",
    "            row[\"AteneoCOD\"] = str(row[\"AteneoCOD\"]) + \"0\"\n",
    "        idList.append(str(row[\"AteneoCOD\"]))\n",
    "    myDf[\"AteneoCOD\"] = idList\n",
    "    return myDf"
   ]
  },
  {
   "cell_type": "markdown",
   "metadata": {},
   "source": [
    "The main function <code>dataligner(dsupath, feepath, studpath, intpath, year, outputpath)</code> translates in Python syntax the process described in the previous chart. See the inline comments for an essential step-to-step description of the algorithm. "
   ]
  },
  {
   "cell_type": "code",
   "execution_count": 3,
   "metadata": {},
   "outputs": [],
   "source": [
    "def dataligner(dsupath, feepath, studpath, intpath, year, outputpath):\n",
    "    \n",
    "    #STEP 1\n",
    "    #Creates source dataframes from csv\n",
    "    dsuRaw = pd.read_csv(dsupath, sep=\";\", encoding = \"ISO-8859-1\")\n",
    "    feeRaw = pd.read_csv(feepath, sep=\";\", encoding = \"ISO-8859-1\")\n",
    "    studentRaw = pd.read_csv(studpath, sep=\",\", encoding = \"ISO-8859-1\").query('AnnoA == \"{0}\"'.format(year))\n",
    "    intstudRaw = pd.read_csv(intpath, sep=\",\", encoding = \"ISO-8859-1\").query('AnnoA == \"{0}\"'.format(year))\n",
    "    \n",
    "    #Defines two intermediate and one last output dataframes\n",
    "    dsuDf = pd.DataFrame(columns=[\"uni_id\", \"university\", \"scholarship\"])\n",
    "    studDf = pd.DataFrame(columns=[\"uni_id\", \"uni\", \"total_students\"])\n",
    "    outputDf = pd.DataFrame(columns=[\"uni_id\", \"uni\", \"total_students\", \"int_students\", \"perc_intern\", \"relative_scholarship\"])\n",
    "\n",
    "    #STEP 2\n",
    "    #Clean dataframe about \"Diritto allo studio\", aka scholarships\n",
    "    dsuRaw = dsuRaw.query('TIPO_ISTITUTO == \"Ateneo\"')\n",
    "    dsuRaw = dsuRaw.astype({'NOME_ISTITUTO':'string'})\n",
    "    dsuRaw = dsuRaw.astype({'CODICE_ISTITUTO':'int64'})\n",
    "    dsuRaw = dsuRaw.astype({'CODICE_ISTITUTO':'string'})\n",
    "\n",
    "    #Do not consider telematic university, simplify redundant records, uniform the ids\n",
    "    for idx, row in dsuRaw.iterrows():\n",
    "        if \"telematic\" not in row['NOME_ISTITUTO']:\n",
    "            if \"<\" in row[6]:\n",
    "                row[6] = (row[6].split(\"<\"))[0]\n",
    "            elif \"(\" in row[6]:\n",
    "                row[6] = (row[6].split(\"(\"))[0]\n",
    "            row[5]= str(row[5])\n",
    "            while len(str(row[5])) < 6:\n",
    "                row[5] = str(str(row[5]) + \"0\")\n",
    "            dsuRaw.at[idx, \"CODICE_ISTITUTO\"] = row[5][:-2:]       \n",
    "    dsuDf = mergeCount(dsuRaw, dsuDf, \"uni_id\", \"university\", \"scholarship\", \"CODICE_ISTITUTO\", \"NOME_ISTITUTO\", \"SPESA_LAUREA\")\n",
    "\n",
    "    #STEP 3\n",
    "    #Refine and uniform the ids in the fees dataframe\n",
    "    for idx, row in feeRaw.iterrows():\n",
    "        while str(row[\"COD_Ateneo\"]).startswith(\"0\"):\n",
    "            row[\"COD_Ateneo\"] = str(row[\"COD_Ateneo\"])[1:]\n",
    "        while len(str(row[\"COD_Ateneo\"])) < 4:\n",
    "            row[\"COD_Ateneo\"] = str(row[\"COD_Ateneo\"]) + \"0\"\n",
    "        feeRaw.at[idx, \"COD_Ateneo\"] = row[\"COD_Ateneo\"]\n",
    "\n",
    "    #Merge scholarships and fees\n",
    "    dsuDf = pd.merge(dsuDf, feeRaw, how='inner',left_on='uni_id',right_on='COD_Ateneo')\n",
    "    dsuDf = dsuDf[['uni_id', 'NOME_ATENEO', 'scholarship', 'TASSA_MEDIA_PAGANTI_LAUREA', 'TASSA_MEDIA_TOTALE_ISCRITTI_LAUREA']].rename(columns= {'NOME_ATENEO':'uni', 'TASSA_MEDIA_PAGANTI_LAUREA':'paidfee','TASSA_MEDIA_TOTALE_ISCRITTI_LAUREA':'totalfee'})\n",
    "    dsuDf.drop_duplicates(ignore_index=True, inplace=True)\n",
    "\n",
    "    #STEP 4\n",
    "    #Apply similar processes for overall enrolling\n",
    "    studentRaw = refineStudId(studentRaw)\n",
    "    studDf = mergeCount(studentRaw, studDf, \"uni_id\", \"uni\", \"total_students\", \"AteneoCOD\", \"AteneoNOME\", \"Isc\")\n",
    "    studDf = pd.merge(dsuDf, studDf, how='inner',left_on='uni_id',right_on='uni_id')\n",
    "    studDf = studDf[['uni_id', 'uni_y', 'scholarship', 'paidfee', 'totalfee', 'total_students']].rename(columns= {'uni_y':'uni'})\n",
    "\n",
    "    #Apply similar processes for international enrolling\n",
    "    intstudRaw = refineStudId(intstudRaw)\n",
    "    outputDf = mergeCount(intstudRaw, outputDf, \"uni_id\", \"uni\", \"int_students\", \"AteneoCOD\", \"AteneoNOME\", \"Isc_S\") \n",
    "    outputDf = pd.merge(outputDf, studDf, how='inner',left_on='uni_id',right_on='uni_id')\n",
    "    outputDf = outputDf[['uni_id', 'uni_y', 'scholarship', 'paidfee', 'totalfee', 'total_students_y', 'int_students', 'perc_intern', 'relative_scholarship']].rename(columns= {'uni_y':'uni','total_students_y':'total_students'})\n",
    "\n",
    "    #Compute percentages of international students\n",
    "    for idx, row in outputDf.iterrows():\n",
    "        outputDf.at[idx, \"perc_intern\"] = 100 * int(row[\"int_students\"])/int(row[\"total_students\"])\n",
    "        \n",
    "    #Compute relative scholarship per students\n",
    "    for idx, row in outputDf.iterrows():\n",
    "        outputDf.at[idx, \"relative_scholarship\"] = int(row[\"scholarship\"])/int(row[\"total_students\"])\n",
    "    \n",
    "    #Replace comma with dot to streamline further data conversion \n",
    "    for idx, row in outputDf.iterrows(): \n",
    "        val1 = str(row[\"paidfee\"]); val2 = str(row[\"totalfee\"])\n",
    "        outputDf.at[idx, \"paidfee\"] = val1.replace(',', '.')\n",
    "        outputDf.at[idx, \"totalfee\"] = val2.replace(',', '.')\n",
    "    outputDf['paidfee'] = outputDf['paidfee'].astype(float)\n",
    "    outputDf['totalfee'] = outputDf['totalfee'].astype(float)\n",
    "    \n",
    "    #Some telematic univeristies remain in the dF: we have to drop these institutions\n",
    "    outputDf.drop(outputDf[outputDf['uni'].str.contains(\" - telematica\")].index, inplace = True)\n",
    "\n",
    "    #STEP 6\n",
    "    #Export the dataframe\n",
    "    outputDf.to_csv(outputpath, index=False)\n",
    "    return outputDf"
   ]
  },
  {
   "cell_type": "markdown",
   "metadata": {},
   "source": [
    "To improve the readablity of the script, filepaths are stored as string variables and used as input of the main function, where the new files are saved through the method <code>pandas.DataFrame.to_csv(filepath)</code> before being returned."
   ]
  },
  {
   "cell_type": "code",
   "execution_count": 5,
   "metadata": {},
   "outputs": [
    {
     "name": "stdout",
     "output_type": "stream",
     "text": [
      "   uni_id                        uni scholarship   paidfee  totalfee  \\\n",
      "0    1010                     Torino    14573831   1374.95   1275.10   \n",
      "1    1020         Torino Politecnico    14180917   1093.96    948.63   \n",
      "2    2010         Piemonte Orientale     2045905   1314.37   1230.55   \n",
      "3    4010  Bra Scienze Gastronomiche           0  10307.32   8798.04   \n",
      "4    7010                      Aosta      894297   1356.28   1187.87   \n",
      "..    ...                        ...         ...       ...       ...   \n",
      "73   8301                    Messina     4334128   1022.82   1009.29   \n",
      "74   8601                  Enna KORE     1549138   2760.04   2760.04   \n",
      "75   8701                    Catania     8991901    741.29    663.47   \n",
      "76   9001                    Sassari     5660474    879.94    737.18   \n",
      "77   9201                   Cagliari    18176242    795.16    641.48   \n",
      "\n",
      "   total_students int_students perc_intern relative_scholarship  \n",
      "0           66350         3708    5.588546           219.650806  \n",
      "1           30740         4341   14.121666           461.318055  \n",
      "2           10769          677    6.286563           189.980964  \n",
      "3             322           77   23.913043                  0.0  \n",
      "4            1118           55    4.919499           799.907871  \n",
      "..            ...          ...         ...                  ...  \n",
      "73          23670          251    1.060414           183.106379  \n",
      "74           5789           23    0.397305           267.600276  \n",
      "75          44623          256    0.573695           201.508213  \n",
      "76          12461          196    1.572907           454.255196  \n",
      "77          26234          236    0.899596           692.850576  \n",
      "\n",
      "[78 rows x 9 columns]\n"
     ]
    }
   ],
   "source": [
    "stud = \"../../data/source/student.csv\"\n",
    "ints = \"../../data/source/intStudent.csv\"\n",
    "\n",
    "dsu2016 = \"../../data/source/dsu2016.csv\"\n",
    "fee2016 = \"../../data/source/fees2016.csv\"\n",
    "dest2016 = \"../../data/output/2016.csv\"\n",
    "\n",
    "print(dataligner(dsu2016, fee2016, stud, ints, \"2015/2016\", dest2016))"
   ]
  },
  {
   "cell_type": "code",
   "execution_count": 6,
   "metadata": {},
   "outputs": [
    {
     "name": "stdout",
     "output_type": "stream",
     "text": [
      "   uni_id                        uni scholarship   paidfee  totalfee  \\\n",
      "0    1010                     Torino    18383953   1344.67   1223.25   \n",
      "1    1020         Torino Politecnico    15465478   1086.65    919.64   \n",
      "2    2010         Piemonte Orientale     2570632   1326.97   1211.31   \n",
      "3    4010  Bra Scienze Gastronomiche           0  10060.42   8832.71   \n",
      "4    7010                      Aosta      837365   1623.70   1351.72   \n",
      "..    ...                        ...         ...       ...       ...   \n",
      "79   8301                    Messina     4801688   1107.77    924.26   \n",
      "80   8601                  Enna KORE     1926643   2893.28   2893.28   \n",
      "81   8701                    Catania    12872273    896.43    769.59   \n",
      "82   9001                    Sassari     8994301    890.09    685.29   \n",
      "83   9201                   Cagliari    20919445    801.50    594.10   \n",
      "\n",
      "   total_students int_students perc_intern relative_scholarship  \n",
      "0           68422         3871    5.657537           268.684824  \n",
      "1           31248         4103    13.13044           494.926971  \n",
      "2           11745          738    6.283525           218.870328  \n",
      "3             319           85   26.645768                  0.0  \n",
      "4            1059           62     5.85458           790.712937  \n",
      "..            ...          ...         ...                  ...  \n",
      "79          22856          248    1.085054           210.084354  \n",
      "80           5514           23     0.41712           349.409322  \n",
      "81          43119          267    0.619217           298.529024  \n",
      "82          12885          223    1.730695           698.044315  \n",
      "83          25982          242    0.931414           805.151451  \n",
      "\n",
      "[79 rows x 9 columns]\n"
     ]
    }
   ],
   "source": [
    "dsu2017 = \"../../data/source/dsu2017.csv\"\n",
    "fee2017 = \"../../data/source/fees2017.csv\"\n",
    "dest2017 = \"../../data/output/2017.csv\"\n",
    "\n",
    "print(dataligner(dsu2017, fee2017, stud, ints, \"2016/2017\", dest2017))"
   ]
  },
  {
   "cell_type": "code",
   "execution_count": 7,
   "metadata": {},
   "outputs": [
    {
     "name": "stdout",
     "output_type": "stream",
     "text": [
      "   uni_id                        uni scholarship   paidfee  totalfee  \\\n",
      "0    1010                     Torino    20972522   1502.08   1224.67   \n",
      "1    1020         Torino Politecnico    15307754   1147.08    884.24   \n",
      "2    2010         Piemonte Orientale     3076591   1401.60   1147.79   \n",
      "3    4010  Bra Scienze Gastronomiche           0  10311.24   9283.23   \n",
      "4    7010                      Aosta      692508   1667.51   1387.92   \n",
      "..    ...                        ...         ...       ...       ...   \n",
      "81   8301                    Messina    12181696   1262.84    844.93   \n",
      "82   8601                  Enna KORE     1594466   3034.75   3034.15   \n",
      "83   8701                    Catania     8365996    770.19    559.05   \n",
      "84   9001                    Sassari     9121637    863.49    581.44   \n",
      "85   9201                   Cagliari    13585559    900.99    592.36   \n",
      "\n",
      "   total_students int_students perc_intern relative_scholarship  \n",
      "0           71597         4366    6.098021           292.924592  \n",
      "1           31902         4164   13.052473           479.836813  \n",
      "2           12132          809    6.668315            253.59306  \n",
      "3             340           96   28.235294                  0.0  \n",
      "4            1050           60    5.714286           659.531429  \n",
      "..            ...          ...         ...                  ...  \n",
      "81          22919          334    1.457306           531.510799  \n",
      "82           5183           22    0.424465           307.633803  \n",
      "83          41890          279     0.66603            199.71344  \n",
      "84          13121          232    1.768158           695.193735  \n",
      "85          25162          261    1.037278           539.923655  \n",
      "\n",
      "[80 rows x 9 columns]\n"
     ]
    }
   ],
   "source": [
    "dsu2018 = \"../../data/source/dsu2018.csv\"\n",
    "fee2018 = \"../../data/source/fees2018.csv\"\n",
    "dest2018 = \"../../data/output/2018.csv\"\n",
    "\n",
    "print(dataligner(dsu2018, fee2018, stud, ints, \"2017/2018\", dest2018))"
   ]
  },
  {
   "cell_type": "code",
   "execution_count": 8,
   "metadata": {},
   "outputs": [
    {
     "name": "stdout",
     "output_type": "stream",
     "text": [
      "   uni_id                        uni scholarship   paidfee  totalfee  \\\n",
      "0    1010                     Torino    21556622   1430.90   1150.91   \n",
      "1    1020         Torino Politecnico    15548115   1239.56    829.62   \n",
      "2    2010         Piemonte Orientale     3087494   1424.04   1155.70   \n",
      "3    4010  Bra Scienze Gastronomiche        8028  10341.61   9275.77   \n",
      "4    7010                      Aosta      997232   1671.69   1383.35   \n",
      "..    ...                        ...         ...       ...       ...   \n",
      "82   8301                    Messina     7040031   1246.60    820.13   \n",
      "83   8601                  Enna KORE     1516254   3089.71   3088.41   \n",
      "84   8701                    Catania     9135199    791.20    549.74   \n",
      "85   9001                    Sassari    13083381    906.92    543.68   \n",
      "86   9201                   Cagliari    26527950   1013.66    526.92   \n",
      "\n",
      "   total_students int_students perc_intern relative_scholarship  \n",
      "0           72877         4493    6.165182           295.794585  \n",
      "1           32504         4410   13.567561           478.344665  \n",
      "2           12647          907    7.171661           244.128568  \n",
      "3             361          101   27.977839            22.238227  \n",
      "4            1023           68    6.647116           974.811339  \n",
      "..            ...          ...         ...                  ...  \n",
      "82          22444          421     1.87578           313.670959  \n",
      "83           4822           18    0.373289           314.445044  \n",
      "84          39352          303    0.769974           232.140654  \n",
      "85          13241          276    2.084435           988.096141  \n",
      "86          24857          320    1.287364          1067.222513  \n",
      "\n",
      "[81 rows x 9 columns]\n"
     ]
    }
   ],
   "source": [
    "dsu2019 = \"../../data/source/dsu2019.csv\"\n",
    "fee2019 = \"../../data/source/fees2019.csv\"\n",
    "dest2019 = \"../../data/output/2019.csv\"\n",
    "\n",
    "print(dataligner(dsu2019, fee2019, stud, ints, \"2018/2019\", dest2019))"
   ]
  }
 ],
 "metadata": {
  "kernelspec": {
   "display_name": "Python 3.10.0 64-bit",
   "language": "python",
   "name": "python3"
  },
  "language_info": {
   "codemirror_mode": {
    "name": "ipython",
    "version": 3
   },
   "file_extension": ".py",
   "mimetype": "text/x-python",
   "name": "python",
   "nbconvert_exporter": "python",
   "pygments_lexer": "ipython3",
   "version": "3.10.0"
  },
  "orig_nbformat": 4,
  "vscode": {
   "interpreter": {
    "hash": "aee8b7b246df8f9039afb4144a1f6fd8d2ca17a180786b69acc140d282b71a49"
   }
  }
 },
 "nbformat": 4,
 "nbformat_minor": 2
}
